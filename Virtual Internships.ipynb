{
 "cells": [
  {
   "cell_type": "code",
   "execution_count": 7,
   "id": "e4d60388",
   "metadata": {},
   "outputs": [
    {
     "name": "stderr",
     "output_type": "stream",
     "text": [
      "C:\\Users\\Hp\\AppData\\Local\\Temp/ipykernel_11668/1714636120.py:4: FutureWarning: Inferring datetime64[ns] from data containing strings is deprecated and will be removed in a future version. To retain the old behavior explicitly pass Series(data, dtype={value.dtype})\n",
      "  customer_demo_df = pd.read_excel('customer_demographics.xlsx')\n",
      "C:\\Users\\Hp\\AppData\\Local\\Temp/ipykernel_11668/1714636120.py:13: FutureWarning: Inferring datetime64[ns] from data containing strings is deprecated and will be removed in a future version. To retain the old behavior explicitly pass Series(data, dtype={value.dtype})\n",
      "  new_customer_demo_df = pd.read_excel('new_customer_list.xlsx')\n"
     ]
    }
   ],
   "source": [
    "import pandas as pd\n",
    "\n",
    "# Load customer demographics data\n",
    "customer_demo_df = pd.read_excel('customer_demographics.xlsx')\n",
    "\n",
    "# Load customer address data\n",
    "customer_address_df = pd.read_excel('customer_address.xlsx')\n",
    "\n",
    "# Load transaction history data\n",
    "transaction_history_df = pd.read_excel('transactions.xlsx')\n",
    "\n",
    "# Load new customer demographics data\n",
    "new_customer_demo_df = pd.read_excel('new_customer_list.xlsx')\n"
   ]
  },
  {
   "cell_type": "code",
   "execution_count": 8,
   "id": "17a8fb2c",
   "metadata": {},
   "outputs": [],
   "source": [
    "# Drop rows with missing values in 'date_of_birth' and 'gender' columns in customer demographics dataset\n",
    "customer_demo_df.dropna(subset=['DOB', 'gender'], inplace=True)\n",
    "\n",
    "# Drop rows with missing values in 'address' column in customer address dataset\n",
    "customer_address_df.dropna(subset=['postcode'], inplace=True)\n",
    "\n",
    "# Drop rows with missing values in 'transaction_amount' column in transaction history dataset\n",
    "transaction_history_df.dropna(subset=['customer_id', 'list_price'], inplace=True)\n",
    "\n",
    "# Drop rows with missing values in 'date_of_birth' and 'gender' columns in new customer demographics dataset\n",
    "new_customer_demo_df.dropna(subset=['DOB', 'gender', 'postcode'], inplace=True)\n"
   ]
  },
  {
   "cell_type": "code",
   "execution_count": 9,
   "id": "f9c04751",
   "metadata": {
    "scrolled": true
   },
   "outputs": [
    {
     "name": "stderr",
     "output_type": "stream",
     "text": [
      "C:\\Users\\Hp\\AppData\\Local\\Temp/ipykernel_11668/3038843747.py:4: FutureWarning: Inferring datetime64[ns] from data containing strings is deprecated and will be removed in a future version. To retain the old behavior explicitly pass Series(data, dtype={value.dtype})\n",
      "  customer_demo_df = pd.read_excel('customer_demographics.xlsx')\n"
     ]
    },
    {
     "name": "stdout",
     "output_type": "stream",
     "text": [
      "   customer_id first_name  last_name  gender  \\\n",
      "0            1    Laraine  Medendorp  Female   \n",
      "1            1    Laraine  Medendorp  Female   \n",
      "2            1    Laraine  Medendorp  Female   \n",
      "3            1    Laraine  Medendorp  Female   \n",
      "4            1    Laraine  Medendorp  Female   \n",
      "\n",
      "   past_3_years_bike_related_purchases        DOB   Age            job_title  \\\n",
      "0                                   93 1953-10-12  69.0  Executive Secretary   \n",
      "1                                   93 1953-10-12  69.0  Executive Secretary   \n",
      "2                                   93 1953-10-12  69.0  Executive Secretary   \n",
      "3                                   93 1953-10-12  69.0  Executive Secretary   \n",
      "4                                   93 1953-10-12  69.0  Executive Secretary   \n",
      "\n",
      "  job_industry_category wealth_segment  ... transaction_date online_order  \\\n",
      "0                Health  Mass Customer  ...       2017-12-23          0.0   \n",
      "1                Health  Mass Customer  ...       2017-04-06          1.0   \n",
      "2                Health  Mass Customer  ...       2017-05-11          1.0   \n",
      "3                Health  Mass Customer  ...       2017-01-05          0.0   \n",
      "4                Health  Mass Customer  ...       2017-02-21          0.0   \n",
      "\n",
      "  order_status           brand product_line  product_class product_size  \\\n",
      "0     Approved      OHM Cycles     Standard         medium       medium   \n",
      "1     Approved           Solex     Standard         medium       medium   \n",
      "2     Approved   Trek Bicycles         Road            low        small   \n",
      "3     Approved  Norco Bicycles     Standard         medium       medium   \n",
      "4     Approved           Solex     Standard         medium       medium   \n",
      "\n",
      "  list_price  standard_cost  product_first_sold_date  \n",
      "0     235.63         125.07                  38482.0  \n",
      "1    1577.53         826.51                  39526.0  \n",
      "2    1720.70        1531.42                  37823.0  \n",
      "3     360.40         270.30                  37873.0  \n",
      "4      71.49          53.62                  38573.0  \n",
      "\n",
      "[5 rows x 31 columns]\n"
     ]
    }
   ],
   "source": [
    "import pandas as pd\n",
    "\n",
    "# Load customer demographics dataset\n",
    "customer_demo_df = pd.read_excel('customer_demographics.xlsx')\n",
    "\n",
    "# Load customer address dataset\n",
    "customer_address_df = pd.read_excel('customer_address.xlsx')\n",
    "\n",
    "# Load transactions dataset\n",
    "transactions_df = pd.read_excel('transactions.xlsx')\n",
    "\n",
    "# Perform inner join on customer ID to merge customer demographics and customer address datasets\n",
    "merged_df = pd.merge(customer_demo_df, customer_address_df, on='customer_id', how='inner')\n",
    "\n",
    "# Perform inner join on customer ID to merge merged_df with transactions dataset\n",
    "master_df = pd.merge(merged_df, transactions_df, on='customer_id', how='inner')\n",
    "\n",
    "# Print the first few rows of the master dataset\n",
    "print(master_df.head())\n"
   ]
  },
  {
   "cell_type": "code",
   "execution_count": 11,
   "id": "8d65422e",
   "metadata": {
    "scrolled": true
   },
   "outputs": [
    {
     "data": {
      "image/png": "[encoded data removed]",
      "text/plain": [
       "<Figure size 432x288 with 1 Axes>"
      ]
     },
     "metadata": {
      "needs_background": "light"
     },
     "output_type": "display_data"
    }
   ],
   "source": [
    "import matplotlib.pyplot as plt\n",
    "\n",
    "# Create age brackets\n",
    "bins = [0, 18, 25, 35, 45, 55, 65, 100]\n",
    "labels = ['<18', '18-25', '26-35', '36-45', '46-55', '56-65', '65+']\n",
    "master_df['age_group'] = pd.cut(master_df['Age'], bins=bins, labels=labels)\n",
    "\n",
    "# Group the data by age group and calculate total transactions for each age group\n",
    "age_group_transactions = master_df.groupby('age_group')['past_3_years_bike_related_purchases'].sum()\n",
    "\n",
    "# Create a bar graph\n",
    "plt.bar(age_group_transactions.index, age_group_transactions.values)\n",
    "plt.xlabel('Age Group')\n",
    "plt.ylabel('Total Transactions')\n",
    "plt.title('Relationship between Age Group and Transactions')\n",
    "plt.show()\n"
   ]
  },
  {
   "cell_type": "code",
   "execution_count": 19,
   "id": "8c65c679",
   "metadata": {
    "scrolled": true
   },
   "outputs": [
    {
     "data": {
      "image/png": "[encoded data removed]",
      "text/plain": [
       "<Figure size 432x288 with 1 Axes>"
      ]
     },
     "metadata": {
      "needs_background": "light"
     },
     "output_type": "display_data"
    }
   ],
   "source": [
    "import matplotlib.pyplot as plt\n",
    "\n",
    "# Group the data by postcode and calculate total transactions for each postcode\n",
    "postcode_transactions = master_df.groupby('state')['past_3_years_bike_related_purchases'].sum()\n",
    "\n",
    "# Sort the postcode_transactions in descending order\n",
    "sorted_postcodes = postcode_transactions.sort_values(ascending=False)\n",
    "\n",
    "# Select top 15 postcodes with the most number of transactions\n",
    "top_15_postcodes = sorted_postcodes.head(15)\n",
    "\n",
    "# Create a bar graph\n",
    "plt.bar(top_15_postcodes.index, top_15_postcodes.values)\n",
    "plt.xlabel('Postcode')\n",
    "plt.ylabel('Total Transactions')\n",
    "plt.title('Top States by Transactions')\n",
    "plt.xticks(rotation=90) # Rotate x-axis labels for better readability\n",
    "plt.show()\n",
    "\n",
    "\n"
   ]
  },
  {
   "cell_type": "code",
   "execution_count": 22,
   "id": "978da540",
   "metadata": {},
   "outputs": [
    {
     "data": {
      "image/png": "[encoded data removed]",
      "text/plain": [
       "<Figure size 432x288 with 1 Axes>"
      ]
     },
     "metadata": {
      "needs_background": "light"
     },
     "output_type": "display_data"
    }
   ],
   "source": [
    "import matplotlib.pyplot as plt\n",
    "\n",
    "# Group the data by postcode and calculate total transactions for each postcode\n",
    "postcode_transactions = master_df.groupby('wealth_segment')['past_3_years_bike_related_purchases'].sum()\n",
    "\n",
    "# Sort the postcode_transactions in descending order\n",
    "sorted_postcodes = postcode_transactions.sort_values(ascending=False)\n",
    "\n",
    "# Select top 15 postcodes with the most number of transactions\n",
    "top_15_postcodes = sorted_postcodes.head(15)\n",
    "\n",
    "# Create a bar graph\n",
    "plt.bar(top_15_postcodes.index, top_15_postcodes.values)\n",
    "plt.xlabel('Postcode')\n",
    "plt.ylabel('Total Transactions')\n",
    "plt.title('Wealth Segment wise Transactions')\n",
    "plt.xticks(rotation=90) # Rotate x-axis labels for better readability\n",
    "plt.show()"
   ]
  },
  {
   "cell_type": "code",
   "execution_count": null,
   "id": "5dfcc2f9",
   "metadata": {},
   "outputs": [],
   "source": [
    "import matplotlib.pyplot as plt\n",
    "\n",
    "# Group the data by postcode and calculate total transactions for each postcode\n",
    "postcode_transactions = master_df.groupby('wealth_segment')['past_3_years_bike_related_purchases'].sum()\n",
    "\n",
    "# Sort the postcode_transactions in descending order\n",
    "sorted_postcodes = postcode_transactions.sort_values(ascending=False)\n",
    "\n",
    "# Select top 15 postcodes with the most number of transactions\n",
    "top_15_postcodes = sorted_postcodes.head(15)\n",
    "\n",
    "# Create a bar graph\n",
    "plt.bar(top_15_postcodes.index, top_15_postcodes.values)\n",
    "plt.xlabel('Postcode')\n",
    "plt.ylabel('Total Transactions')\n",
    "plt.title('Wealth Segment wise Transactions')\n",
    "plt.xticks(rotation=90) # Rotate x-axis labels for better readability\n",
    "plt.show()"
   ]
  },
  {
   "cell_type": "code",
   "execution_count": 23,
   "id": "7cbc5645",
   "metadata": {
    "scrolled": true
   },
   "outputs": [
    {
     "data": {
      "image/png": "[encoded data removed]",
      "text/plain": [
       "<Figure size 432x288 with 1 Axes>"
      ]
     },
     "metadata": {},
     "output_type": "display_data"
    }
   ],
   "source": [
    "import matplotlib.pyplot as plt\n",
    "\n",
    "# Group the data by job categories and count the number of transactions for each category\n",
    "job_transactions = master_df.groupby('job_industry_category')['past_3_years_bike_related_purchases'].count()\n",
    "\n",
    "# Create a pie chart\n",
    "plt.pie(job_transactions, labels=job_transactions.index, autopct='%1.1f%%', startangle=90)\n",
    "plt.title('Percentage of Transactions by Job Categories')\n",
    "plt.axis('equal')  # Equal aspect ratio ensures the pie chart is a circle.\n",
    "plt.show()\n"
   ]
  },
  {
   "cell_type": "code",
   "execution_count": 6,
   "id": "d96adfae",
   "metadata": {},
   "outputs": [],
   "source": [
    "# Save master_df as CSV file\n",
    "master_df.to_csv('master_data.csv', index=False)\n"
   ]
  },
  {
   "cell_type": "code",
   "execution_count": 14,
   "id": "bdd6616f",
   "metadata": {
    "scrolled": true
   },
   "outputs": [
    {
     "name": "stdout",
     "output_type": "stream",
     "text": [
      "age_bracket\n",
      "<18        0\n",
      "18-25    244\n",
      "26-35    608\n",
      "36-45    908\n",
      "46-55    860\n",
      "56-65    602\n",
      "66-75    185\n",
      "75+        5\n",
      "Name: customer_id, dtype: int64\n"
     ]
    }
   ],
   "source": [
    "import pandas as pd\n",
    "\n",
    "# Assuming master_df already exists with customer demographics data\n",
    "# and it contains 'customer_id' and 'age' columns\n",
    "\n",
    "# Define age brackets\n",
    "age_bins = [0, 18, 25, 35, 45, 55, 65, 75, 100]\n",
    "age_labels = ['<18', '18-25', '26-35', '36-45', '46-55', '56-65', '66-75', '75+']\n",
    "\n",
    "# Add age bracket column\n",
    "master_df['age_bracket'] = pd.cut(master_df['Age'], bins=age_bins, labels=age_labels)\n",
    "\n",
    "# Generate count of unique customer IDs in each age bracket\n",
    "age_bracket_counts = master_df['customer_id'].groupby(master_df['age_bracket']).nunique()\n",
    "\n",
    "# Print the result\n",
    "print(age_bracket_counts)\n"
   ]
  },
  {
   "cell_type": "code",
   "execution_count": 15,
   "id": "c6695cbf",
   "metadata": {},
   "outputs": [],
   "source": [
    "# Save master_df as CSV file\n",
    "master_df.to_csv('master_data_2.csv', index=False)\n"
   ]
  },
  {
   "cell_type": "code",
   "execution_count": 16,
   "id": "df0ab5af",
   "metadata": {
    "scrolled": true
   },
   "outputs": [
    {
     "name": "stdout",
     "output_type": "stream",
     "text": [
      "  age_bracket  customer_count\n",
      "0         <18               0\n",
      "1       18-25             244\n",
      "2       26-35             608\n",
      "3       36-45             908\n",
      "4       46-55             860\n",
      "5       56-65             602\n",
      "6       66-75             185\n",
      "7         75+               5\n"
     ]
    }
   ],
   "source": [
    "import pandas as pd\n",
    "\n",
    "# Assuming master_df already exists with customer demographics data\n",
    "# and it contains 'customer_id' and 'age_bracket' columns\n",
    "\n",
    "# Generate count of unique customer IDs in each age bracket\n",
    "age_bracket_counts = master_df['customer_id'].groupby(master_df['age_bracket']).nunique()\n",
    "\n",
    "# Create a new dataframe from the resulting Series\n",
    "age_bracket_df = pd.DataFrame({'age_bracket': age_bracket_counts.index, 'customer_count': age_bracket_counts.values})\n",
    "\n",
    "# Print the resulting dataframe\n",
    "print(age_bracket_df)\n"
   ]
  },
  {
   "cell_type": "code",
   "execution_count": 18,
   "id": "863c7eaa",
   "metadata": {},
   "outputs": [],
   "source": [
    "# Save master_df as CSV file\n",
    "#KMPG internship ends here\n",
    "master_df.to_csv('master_data_2.csv', index=False)"
   ]
  },
  {
   "cell_type": "code",
   "execution_count": 19,
   "id": "c023212f",
   "metadata": {},
   "outputs": [
    {
     "name": "stdout",
     "output_type": "stream",
     "text": [
      "<bound method NDFrame.head of        InvoiceNo StockCode                          Description  Quantity  \\\n",
      "0         536365    85123A   WHITE HANGING HEART T-LIGHT HOLDER         6   \n",
      "1         536365     71053                  WHITE METAL LANTERN         6   \n",
      "2         536365    84406B       CREAM CUPID HEARTS COAT HANGER         8   \n",
      "3         536365    84029G  KNITTED UNION FLAG HOT WATER BOTTLE         6   \n",
      "4         536365    84029E       RED WOOLLY HOTTIE WHITE HEART.         6   \n",
      "...          ...       ...                                  ...       ...   \n",
      "406824    581587     22613          PACK OF 20 SPACEBOY NAPKINS        12   \n",
      "406825    581587     22899         CHILDREN'S APRON DOLLY GIRL          6   \n",
      "406826    581587     23254        CHILDRENS CUTLERY DOLLY GIRL          4   \n",
      "406827    581587     23255      CHILDRENS CUTLERY CIRCUS PARADE         4   \n",
      "406828    581587     22138        BAKING SET 9 PIECE RETROSPOT          3   \n",
      "\n",
      "               InvoiceDate  UnitPrice  Revenue  CustomerID         Country  \n",
      "0      2010-12-01 08:26:00       2.55    15.30     17850.0  United Kingdom  \n",
      "1      2010-12-01 08:26:00       3.39    20.34     17850.0  United Kingdom  \n",
      "2      2010-12-01 08:26:00       2.75    22.00     17850.0  United Kingdom  \n",
      "3      2010-12-01 08:26:00       3.39    20.34     17850.0  United Kingdom  \n",
      "4      2010-12-01 08:26:00       3.39    20.34     17850.0  United Kingdom  \n",
      "...                    ...        ...      ...         ...             ...  \n",
      "406824 2011-12-09 12:50:00       0.85    10.20     12680.0          France  \n",
      "406825 2011-12-09 12:50:00       2.10    12.60     12680.0          France  \n",
      "406826 2011-12-09 12:50:00       4.15    16.60     12680.0          France  \n",
      "406827 2011-12-09 12:50:00       4.15    16.60     12680.0          France  \n",
      "406828 2011-12-09 12:50:00       4.95    14.85     12680.0          France  \n",
      "\n",
      "[406829 rows x 9 columns]>\n"
     ]
    }
   ],
   "source": [
    "#Tata virtual internship begins here\n",
    "\n",
    "import pandas as pd\n",
    "\n",
    "# Load the online retail dataset into a pandas DataFrame\n",
    "df = pd.read_excel('Online Retail.xlsx')\n",
    "\n",
    "# Drop rows where customer ID is blank\n",
    "df.dropna(subset=['CustomerID'], inplace=True)\n",
    "\n",
    "# Reset the index after dropping rows\n",
    "df.reset_index(drop=True, inplace=True)\n",
    "\n",
    "# Print the cleaned DataFrame\n",
    "print(df.head)\n"
   ]
  },
  {
   "cell_type": "code",
   "execution_count": 20,
   "id": "a7baeaed",
   "metadata": {},
   "outputs": [],
   "source": [
    "# Update quantity column where value is below 1 to 1\n",
    "df['Quantity'] = df['Quantity'].apply(lambda x: 1 if x < 1 else x)\n"
   ]
  },
  {
   "cell_type": "code",
   "execution_count": 21,
   "id": "bd2f6ef5",
   "metadata": {},
   "outputs": [],
   "source": [
    "# Update UnitPrice column where value is below 0 to 0\n",
    "df['UnitPrice'] = df['UnitPrice'].apply(lambda x: 0 if x < 0 else x)\n"
   ]
  },
  {
   "cell_type": "code",
   "execution_count": 22,
   "id": "1a6628d8",
   "metadata": {
    "scrolled": false
   },
   "outputs": [
    {
     "data": {
      "text/html": [
       "<div>\n",
       "<style scoped>\n",
       "    .dataframe tbody tr th:only-of-type {\n",
       "        vertical-align: middle;\n",
       "    }\n",
       "\n",
       "    .dataframe tbody tr th {\n",
       "        vertical-align: top;\n",
       "    }\n",
       "\n",
       "    .dataframe thead th {\n",
       "        text-align: right;\n",
       "    }\n",
       "</style>\n",
       "<table border=\"1\" class=\"dataframe\">\n",
       "  <thead>\n",
       "    <tr style=\"text-align: right;\">\n",
       "      <th></th>\n",
       "      <th>Quantity</th>\n",
       "      <th>UnitPrice</th>\n",
       "      <th>Revenue</th>\n",
       "      <th>CustomerID</th>\n",
       "    </tr>\n",
       "  </thead>\n",
       "  <tbody>\n",
       "    <tr>\n",
       "      <th>count</th>\n",
       "      <td>406829.000000</td>\n",
       "      <td>406829.000000</td>\n",
       "      <td>406829.000000</td>\n",
       "      <td>406829.000000</td>\n",
       "    </tr>\n",
       "    <tr>\n",
       "      <th>mean</th>\n",
       "      <td>12.758680</td>\n",
       "      <td>3.460471</td>\n",
       "      <td>20.401854</td>\n",
       "      <td>15287.690570</td>\n",
       "    </tr>\n",
       "    <tr>\n",
       "      <th>std</th>\n",
       "      <td>178.443359</td>\n",
       "      <td>69.315162</td>\n",
       "      <td>427.591718</td>\n",
       "      <td>1713.600303</td>\n",
       "    </tr>\n",
       "    <tr>\n",
       "      <th>min</th>\n",
       "      <td>1.000000</td>\n",
       "      <td>0.000000</td>\n",
       "      <td>-168469.600000</td>\n",
       "      <td>12346.000000</td>\n",
       "    </tr>\n",
       "    <tr>\n",
       "      <th>25%</th>\n",
       "      <td>2.000000</td>\n",
       "      <td>1.250000</td>\n",
       "      <td>4.200000</td>\n",
       "      <td>13953.000000</td>\n",
       "    </tr>\n",
       "    <tr>\n",
       "      <th>50%</th>\n",
       "      <td>5.000000</td>\n",
       "      <td>1.950000</td>\n",
       "      <td>11.100000</td>\n",
       "      <td>15152.000000</td>\n",
       "    </tr>\n",
       "    <tr>\n",
       "      <th>75%</th>\n",
       "      <td>12.000000</td>\n",
       "      <td>3.750000</td>\n",
       "      <td>19.500000</td>\n",
       "      <td>16791.000000</td>\n",
       "    </tr>\n",
       "    <tr>\n",
       "      <th>max</th>\n",
       "      <td>80995.000000</td>\n",
       "      <td>38970.000000</td>\n",
       "      <td>168469.600000</td>\n",
       "      <td>18287.000000</td>\n",
       "    </tr>\n",
       "  </tbody>\n",
       "</table>\n",
       "</div>"
      ],
      "text/plain": [
       "            Quantity      UnitPrice        Revenue     CustomerID\n",
       "count  406829.000000  406829.000000  406829.000000  406829.000000\n",
       "mean       12.758680       3.460471      20.401854   15287.690570\n",
       "std       178.443359      69.315162     427.591718    1713.600303\n",
       "min         1.000000       0.000000 -168469.600000   12346.000000\n",
       "25%         2.000000       1.250000       4.200000   13953.000000\n",
       "50%         5.000000       1.950000      11.100000   15152.000000\n",
       "75%        12.000000       3.750000      19.500000   16791.000000\n",
       "max     80995.000000   38970.000000  168469.600000   18287.000000"
      ]
     },
     "execution_count": 22,
     "metadata": {},
     "output_type": "execute_result"
    }
   ],
   "source": [
    "df.describe()"
   ]
  },
  {
   "cell_type": "code",
   "execution_count": 23,
   "id": "ea6bc170",
   "metadata": {},
   "outputs": [],
   "source": [
    "df.to_csv('online_retail_cleaned.csv', index=False)"
   ]
  },
  {
   "cell_type": "code",
   "execution_count": 24,
   "id": "f35ead47",
   "metadata": {
    "scrolled": true
   },
   "outputs": [
    {
     "name": "stdout",
     "output_type": "stream",
     "text": [
      "Country\n",
      "Netherlands    284661.54\n",
      "EIRE           250285.22\n",
      "Germany        221698.21\n",
      "France         196712.84\n",
      "Australia      137077.27\n",
      "Switzerland     55739.40\n",
      "Spain           54774.58\n",
      "Belgium         40910.96\n",
      "Sweden          36595.91\n",
      "Japan           35340.62\n",
      "Name: Revenue, dtype: float64\n"
     ]
    }
   ],
   "source": [
    "# Group by 'Country' and calculate the sum of 'Revenue' for each country\n",
    "revenue_by_country = df.groupby('Country')['Revenue'].sum()\n",
    "\n",
    "# Sort the revenue_by_country Series in descending order\n",
    "revenue_by_country = revenue_by_country.sort_values(ascending=False)\n",
    "\n",
    "# Exclude 'United Kingdom' from the top 10 countries\n",
    "top_10_countries = revenue_by_country[revenue_by_country.index != 'United Kingdom'].head(10)\n",
    "\n",
    "# Print the top 10 countries with the most revenue (excluding 'United Kingdom')\n",
    "print(top_10_countries)\n"
   ]
  },
  {
   "cell_type": "code",
   "execution_count": 25,
   "id": "2af58f20",
   "metadata": {
    "scrolled": true
   },
   "outputs": [
    {
     "name": "stdout",
     "output_type": "stream",
     "text": [
      "CustomerID\n",
      "14646.0    279489.02\n",
      "18102.0    256438.49\n",
      "17450.0    187482.17\n",
      "14911.0    132572.62\n",
      "12415.0    123725.45\n",
      "14156.0    113384.14\n",
      "17511.0     88125.38\n",
      "16684.0     65892.08\n",
      "13694.0     62653.10\n",
      "15311.0     59419.34\n",
      "Name: Revenue, dtype: float64\n"
     ]
    }
   ],
   "source": [
    "\n",
    "# Group by 'CustomerID' and calculate the sum of 'Revenue' for each customer\n",
    "revenue_by_customer = df.groupby('CustomerID')['Revenue'].sum()\n",
    "\n",
    "# Sort the revenue_by_customer Series in descending order\n",
    "revenue_by_customer = revenue_by_customer.sort_values(ascending=False)\n",
    "\n",
    "# Filter out the top 10 customers with the highest revenue\n",
    "top_10_customers = revenue_by_customer.head(10)\n",
    "\n",
    "# Print the top 10 customers with the highest revenue\n",
    "print(top_10_customers)\n"
   ]
  },
  {
   "cell_type": "code",
   "execution_count": 1,
   "id": "face1bc3",
   "metadata": {
    "scrolled": true
   },
   "outputs": [
    {
     "name": "stdout",
     "output_type": "stream",
     "text": [
      "   Unnamed: 0                            Content ID  \\\n",
      "0           1  97522e57-d9ab-4bd6-97bf-c24d952602d2   \n",
      "1           2  97522e57-d9ab-4bd6-97bf-c24d952602d2   \n",
      "2           3  97522e57-d9ab-4bd6-97bf-c24d952602d2   \n",
      "3           4  97522e57-d9ab-4bd6-97bf-c24d952602d2   \n",
      "4           5  97522e57-d9ab-4bd6-97bf-c24d952602d2   \n",
      "\n",
      "                                User ID        Type  \n",
      "0  5d454588-283d-459d-915d-c48a2cb4c27f     disgust  \n",
      "1  92b87fa5-f271-43e0-af66-84fac21052e6     dislike  \n",
      "2  163daa38-8b77-48c9-9af6-37a6c1447ac2      scared  \n",
      "3  34e8add9-0206-47fd-a501-037b994650a2     disgust  \n",
      "4  9b6d35f9-5e15-4cd0-a8d7-b1f3340e02c4  interested  \n"
     ]
    }
   ],
   "source": [
    "# Accenture virtual internship\n",
    "\n",
    "import pandas as pd\n",
    "\n",
    "# Load the 'Reactions' dataset into a DataFrame\n",
    "df = pd.read_csv('Reactions.csv')\n",
    "\n",
    "# Drop rows with missing values\n",
    "df = df.dropna()\n",
    "\n",
    "# Drop the 'Datetime' column\n",
    "df = df.drop('Datetime', axis=1)\n",
    "\n",
    "# Reset the index\n",
    "df = df.reset_index(drop=True)\n",
    "\n",
    "# Display the resulting DataFrame\n",
    "print(df.head())\n"
   ]
  },
  {
   "cell_type": "code",
   "execution_count": 2,
   "id": "f534fe78",
   "metadata": {},
   "outputs": [],
   "source": [
    "df.to_csv('Reactions_cleaned.csv', index=False)"
   ]
  },
  {
   "cell_type": "code",
   "execution_count": 3,
   "id": "d7d6e7e8",
   "metadata": {
    "scrolled": true
   },
   "outputs": [
    {
     "name": "stdout",
     "output_type": "stream",
     "text": [
      "   Unnamed: 0                            Content ID  \\\n",
      "0           0  97522e57-d9ab-4bd6-97bf-c24d952602d2   \n",
      "1           1  9f737e0a-3cdd-4d29-9d24-753f4e3be810   \n",
      "2           2  230c4e4d-70c3-461d-b42c-ec09396efb3f   \n",
      "3           3  356fff80-da4d-4785-9f43-bc1261031dc6   \n",
      "4           4  01ab84dd-6364-4236-abbb-3f237db77180   \n",
      "\n",
      "                                User ID   Type        Category  \n",
      "0  8d3cd87d-8a31-4935-9a4f-b319bfe05f31  photo        Studying  \n",
      "1  beb1f34e-7870-46d6-9fc7-2e12eb83ce43  photo  Healthy Eating  \n",
      "2  a5c65404-5894-4b87-82f2-d787cbee86b4  photo  Healthy Eating  \n",
      "3  9fb4ce88-fac1-406c-8544-1a899cee7aaf  photo      Technology  \n",
      "4  e206e31b-5f85-4964-b6ea-d7ee5324def1  video            Food  \n",
      "   Unnamed: 0                            Content ID  \\\n",
      "0           0  97522e57-d9ab-4bd6-97bf-c24d952602d2   \n",
      "1           1  9f737e0a-3cdd-4d29-9d24-753f4e3be810   \n",
      "2           2  230c4e4d-70c3-461d-b42c-ec09396efb3f   \n",
      "3           3  356fff80-da4d-4785-9f43-bc1261031dc6   \n",
      "4           4  01ab84dd-6364-4236-abbb-3f237db77180   \n",
      "\n",
      "                                User ID   Type        Category  \n",
      "0  8d3cd87d-8a31-4935-9a4f-b319bfe05f31  photo        Studying  \n",
      "1  beb1f34e-7870-46d6-9fc7-2e12eb83ce43  photo  Healthy Eating  \n",
      "2  a5c65404-5894-4b87-82f2-d787cbee86b4  photo  Healthy Eating  \n",
      "3  9fb4ce88-fac1-406c-8544-1a899cee7aaf  photo      Technology  \n",
      "4  e206e31b-5f85-4964-b6ea-d7ee5324def1  video            Food  \n"
     ]
    },
    {
     "name": "stderr",
     "output_type": "stream",
     "text": [
      "C:\\Users\\Hp\\AppData\\Local\\Temp/ipykernel_13492/592826643.py:11: FutureWarning: The default value of regex will change from True to False in a future version.\n",
      "  df['Category'] = df['Category'].str.replace(r'\"(.*?)\"', r'\\1')\n"
     ]
    }
   ],
   "source": [
    "# Load the 'Content' dataset into a DataFrame\n",
    "df = pd.read_csv('Content.csv')\n",
    "\n",
    "# Drop rows with missing values\n",
    "df = df.dropna()\n",
    "\n",
    "# Drop the 'Datetime' column\n",
    "df = df.drop('URL', axis=1)\n",
    "\n",
    "# Remove quotes from words within quotes in the 'Category' column\n",
    "df['Category'] = df['Category'].str.replace(r'\"(.*?)\"', r'\\1')\n",
    "\n",
    "# Capitalize the first alphabet of all words in the 'Category' column\n",
    "df['Category'] = df['Category'].str.title()\n",
    "\n",
    "# Display the resulting DataFrame\n",
    "print(df.head())\n",
    "\n",
    "# Reset the index\n",
    "df = df.reset_index(drop=True)\n",
    "\n",
    "# Display the resulting DataFrame\n",
    "print(df.head())"
   ]
  },
  {
   "cell_type": "code",
   "execution_count": 4,
   "id": "f3d3cc2b",
   "metadata": {},
   "outputs": [],
   "source": [
    "df.to_csv('Content_cleaned.csv', index=False)"
   ]
  },
  {
   "cell_type": "code",
   "execution_count": 6,
   "id": "fef44e6c",
   "metadata": {
    "scrolled": true
   },
   "outputs": [
    {
     "ename": "KeyError",
     "evalue": "'Reaction Type'",
     "output_type": "error",
     "traceback": [
      "\u001b[1;31m---------------------------------------------------------------------------\u001b[0m",
      "\u001b[1;31mKeyError\u001b[0m                                  Traceback (most recent call last)",
      "\u001b[1;32m~\\AppData\\Local\\Temp/ipykernel_13492/1974946416.py\u001b[0m in \u001b[0;36m<module>\u001b[1;34m\u001b[0m\n\u001b[0;32m      6\u001b[0m \u001b[1;33m\u001b[0m\u001b[0m\n\u001b[0;32m      7\u001b[0m \u001b[1;31m# Merge the two DataFrames based on the 'Reaction Type' column\u001b[0m\u001b[1;33m\u001b[0m\u001b[1;33m\u001b[0m\u001b[0m\n\u001b[1;32m----> 8\u001b[1;33m \u001b[0mmerged_df\u001b[0m \u001b[1;33m=\u001b[0m \u001b[0mpd\u001b[0m\u001b[1;33m.\u001b[0m\u001b[0mmerge\u001b[0m\u001b[1;33m(\u001b[0m\u001b[0mdf_reactions\u001b[0m\u001b[1;33m,\u001b[0m \u001b[0mdf_reaction_types\u001b[0m\u001b[1;33m,\u001b[0m \u001b[0mon\u001b[0m\u001b[1;33m=\u001b[0m\u001b[1;34m'Reaction Type'\u001b[0m\u001b[1;33m,\u001b[0m \u001b[0mhow\u001b[0m\u001b[1;33m=\u001b[0m\u001b[1;34m'left'\u001b[0m\u001b[1;33m)\u001b[0m\u001b[1;33m\u001b[0m\u001b[1;33m\u001b[0m\u001b[0m\n\u001b[0m\u001b[0;32m      9\u001b[0m \u001b[1;33m\u001b[0m\u001b[0m\n\u001b[0;32m     10\u001b[0m \u001b[1;31m# Display the merged DataFrame\u001b[0m\u001b[1;33m\u001b[0m\u001b[1;33m\u001b[0m\u001b[0m\n",
      "\u001b[1;32mD:\\Work\\Anaconda\\lib\\site-packages\\pandas\\core\\reshape\\merge.py\u001b[0m in \u001b[0;36mmerge\u001b[1;34m(left, right, how, on, left_on, right_on, left_index, right_index, sort, suffixes, copy, indicator, validate)\u001b[0m\n\u001b[0;32m    104\u001b[0m     \u001b[0mvalidate\u001b[0m\u001b[1;33m:\u001b[0m \u001b[0mstr\u001b[0m \u001b[1;33m|\u001b[0m \u001b[1;32mNone\u001b[0m \u001b[1;33m=\u001b[0m \u001b[1;32mNone\u001b[0m\u001b[1;33m,\u001b[0m\u001b[1;33m\u001b[0m\u001b[1;33m\u001b[0m\u001b[0m\n\u001b[0;32m    105\u001b[0m ) -> DataFrame:\n\u001b[1;32m--> 106\u001b[1;33m     op = _MergeOperation(\n\u001b[0m\u001b[0;32m    107\u001b[0m         \u001b[0mleft\u001b[0m\u001b[1;33m,\u001b[0m\u001b[1;33m\u001b[0m\u001b[1;33m\u001b[0m\u001b[0m\n\u001b[0;32m    108\u001b[0m         \u001b[0mright\u001b[0m\u001b[1;33m,\u001b[0m\u001b[1;33m\u001b[0m\u001b[1;33m\u001b[0m\u001b[0m\n",
      "\u001b[1;32mD:\\Work\\Anaconda\\lib\\site-packages\\pandas\\core\\reshape\\merge.py\u001b[0m in \u001b[0;36m__init__\u001b[1;34m(self, left, right, how, on, left_on, right_on, axis, left_index, right_index, sort, suffixes, copy, indicator, validate)\u001b[0m\n\u001b[0;32m    697\u001b[0m             \u001b[0mself\u001b[0m\u001b[1;33m.\u001b[0m\u001b[0mright_join_keys\u001b[0m\u001b[1;33m,\u001b[0m\u001b[1;33m\u001b[0m\u001b[1;33m\u001b[0m\u001b[0m\n\u001b[0;32m    698\u001b[0m             \u001b[0mself\u001b[0m\u001b[1;33m.\u001b[0m\u001b[0mjoin_names\u001b[0m\u001b[1;33m,\u001b[0m\u001b[1;33m\u001b[0m\u001b[1;33m\u001b[0m\u001b[0m\n\u001b[1;32m--> 699\u001b[1;33m         ) = self._get_merge_keys()\n\u001b[0m\u001b[0;32m    700\u001b[0m \u001b[1;33m\u001b[0m\u001b[0m\n\u001b[0;32m    701\u001b[0m         \u001b[1;31m# validate the merge keys dtypes. We may need to coerce\u001b[0m\u001b[1;33m\u001b[0m\u001b[1;33m\u001b[0m\u001b[0m\n",
      "\u001b[1;32mD:\\Work\\Anaconda\\lib\\site-packages\\pandas\\core\\reshape\\merge.py\u001b[0m in \u001b[0;36m_get_merge_keys\u001b[1;34m(self)\u001b[0m\n\u001b[0;32m   1094\u001b[0m                     \u001b[1;32mif\u001b[0m \u001b[1;32mnot\u001b[0m \u001b[0mis_rkey\u001b[0m\u001b[1;33m(\u001b[0m\u001b[0mrk\u001b[0m\u001b[1;33m)\u001b[0m\u001b[1;33m:\u001b[0m\u001b[1;33m\u001b[0m\u001b[1;33m\u001b[0m\u001b[0m\n\u001b[0;32m   1095\u001b[0m                         \u001b[1;32mif\u001b[0m \u001b[0mrk\u001b[0m \u001b[1;32mis\u001b[0m \u001b[1;32mnot\u001b[0m \u001b[1;32mNone\u001b[0m\u001b[1;33m:\u001b[0m\u001b[1;33m\u001b[0m\u001b[1;33m\u001b[0m\u001b[0m\n\u001b[1;32m-> 1096\u001b[1;33m                             \u001b[0mright_keys\u001b[0m\u001b[1;33m.\u001b[0m\u001b[0mappend\u001b[0m\u001b[1;33m(\u001b[0m\u001b[0mright\u001b[0m\u001b[1;33m.\u001b[0m\u001b[0m_get_label_or_level_values\u001b[0m\u001b[1;33m(\u001b[0m\u001b[0mrk\u001b[0m\u001b[1;33m)\u001b[0m\u001b[1;33m)\u001b[0m\u001b[1;33m\u001b[0m\u001b[1;33m\u001b[0m\u001b[0m\n\u001b[0m\u001b[0;32m   1097\u001b[0m                         \u001b[1;32melse\u001b[0m\u001b[1;33m:\u001b[0m\u001b[1;33m\u001b[0m\u001b[1;33m\u001b[0m\u001b[0m\n\u001b[0;32m   1098\u001b[0m                             \u001b[1;31m# work-around for merge_asof(right_index=True)\u001b[0m\u001b[1;33m\u001b[0m\u001b[1;33m\u001b[0m\u001b[0m\n",
      "\u001b[1;32mD:\\Work\\Anaconda\\lib\\site-packages\\pandas\\core\\generic.py\u001b[0m in \u001b[0;36m_get_label_or_level_values\u001b[1;34m(self, key, axis)\u001b[0m\n\u001b[0;32m   1777\u001b[0m             \u001b[0mvalues\u001b[0m \u001b[1;33m=\u001b[0m \u001b[0mself\u001b[0m\u001b[1;33m.\u001b[0m\u001b[0maxes\u001b[0m\u001b[1;33m[\u001b[0m\u001b[0maxis\u001b[0m\u001b[1;33m]\u001b[0m\u001b[1;33m.\u001b[0m\u001b[0mget_level_values\u001b[0m\u001b[1;33m(\u001b[0m\u001b[0mkey\u001b[0m\u001b[1;33m)\u001b[0m\u001b[1;33m.\u001b[0m\u001b[0m_values\u001b[0m\u001b[1;33m\u001b[0m\u001b[1;33m\u001b[0m\u001b[0m\n\u001b[0;32m   1778\u001b[0m         \u001b[1;32melse\u001b[0m\u001b[1;33m:\u001b[0m\u001b[1;33m\u001b[0m\u001b[1;33m\u001b[0m\u001b[0m\n\u001b[1;32m-> 1779\u001b[1;33m             \u001b[1;32mraise\u001b[0m \u001b[0mKeyError\u001b[0m\u001b[1;33m(\u001b[0m\u001b[0mkey\u001b[0m\u001b[1;33m)\u001b[0m\u001b[1;33m\u001b[0m\u001b[1;33m\u001b[0m\u001b[0m\n\u001b[0m\u001b[0;32m   1780\u001b[0m \u001b[1;33m\u001b[0m\u001b[0m\n\u001b[0;32m   1781\u001b[0m         \u001b[1;31m# Check for duplicates\u001b[0m\u001b[1;33m\u001b[0m\u001b[1;33m\u001b[0m\u001b[0m\n",
      "\u001b[1;31mKeyError\u001b[0m: 'Reaction Type'"
     ]
    }
   ],
   "source": [
    "import pandas as pd\n",
    "\n",
    "# Load the 'Reactions' and 'ReactionTypes' datasets into separate DataFrames\n",
    "df_reactions = pd.read_csv('Reactions.csv', header=1)\n",
    "df_reaction_types = pd.read_csv('ReactionTypes.csv')\n",
    "\n",
    "# Merge the two DataFrames based on the 'Reaction Type' column\n",
    "merged_df = pd.merge(df_reactions, df_reaction_types, on='Reaction Type', how='left')\n",
    "\n",
    "# Display the merged DataFrame\n",
    "print(merged_df.head())\n"
   ]
  },
  {
   "cell_type": "code",
   "execution_count": 2,
   "id": "12bfe9dd",
   "metadata": {
    "scrolled": true
   },
   "outputs": [
    {
     "name": "stdout",
     "output_type": "stream",
     "text": [
      "        DATE  STORE_NBR  LYLTY_CARD_NBR  TXN_ID  PROD_NBR  \\\n",
      "0 2018-10-17          1            1000       1         5   \n",
      "1 2019-05-14          1            1307     348        66   \n",
      "2 2018-11-10          1            1307     346        96   \n",
      "3 2019-03-09          1            1307     347        54   \n",
      "4 2019-05-20          1            1343     383        61   \n",
      "\n",
      "                                PROD_NAME  PROD_QTY  TOT_SALES  \\\n",
      "0  Natural Chip        Compny SeaSalt175g         2        6.0   \n",
      "1                CCs Nacho Cheese    175g         3        6.3   \n",
      "2          WW Original Stacked Chips 160g         2        3.8   \n",
      "3                       CCs Original 175g         1        2.1   \n",
      "4  Smiths Crinkle Cut  Chips Chicken 170g         2        2.9   \n",
      "\n",
      "                LIFESTAGE PREMIUM_CUSTOMER  \n",
      "0   YOUNG SINGLES/COUPLES          Premium  \n",
      "1  MIDAGE SINGLES/COUPLES           Budget  \n",
      "2  MIDAGE SINGLES/COUPLES           Budget  \n",
      "3  MIDAGE SINGLES/COUPLES           Budget  \n",
      "4  MIDAGE SINGLES/COUPLES           Budget  \n"
     ]
    }
   ],
   "source": [
    "#Quantium internship begins here\n",
    "\n",
    "import pandas as pd\n",
    "\n",
    "# read in the first dataframe\n",
    "df1 = pd.read_excel('QVI_transaction_data.xlsx')\n",
    "\n",
    "# read in the second dataframe\n",
    "df2 = pd.read_csv('QVI_purchase_behaviour.csv')\n",
    "\n",
    "# merge the two dataframes on the 'LYLTY_CARD_NBR' column\n",
    "merged_df = pd.merge(df1, df2, on='LYLTY_CARD_NBR')\n",
    "\n",
    "# display the merged dataframe\n",
    "print(merged_df.head())\n"
   ]
  },
  {
   "cell_type": "code",
   "execution_count": 3,
   "id": "df7571ae",
   "metadata": {
    "scrolled": true
   },
   "outputs": [
    {
     "data": {
      "text/html": [
       "<div>\n",
       "<style scoped>\n",
       "    .dataframe tbody tr th:only-of-type {\n",
       "        vertical-align: middle;\n",
       "    }\n",
       "\n",
       "    .dataframe tbody tr th {\n",
       "        vertical-align: top;\n",
       "    }\n",
       "\n",
       "    .dataframe thead th {\n",
       "        text-align: right;\n",
       "    }\n",
       "</style>\n",
       "<table border=\"1\" class=\"dataframe\">\n",
       "  <thead>\n",
       "    <tr style=\"text-align: right;\">\n",
       "      <th></th>\n",
       "      <th>STORE_NBR</th>\n",
       "      <th>LYLTY_CARD_NBR</th>\n",
       "      <th>TXN_ID</th>\n",
       "      <th>PROD_NBR</th>\n",
       "      <th>PROD_QTY</th>\n",
       "      <th>TOT_SALES</th>\n",
       "    </tr>\n",
       "  </thead>\n",
       "  <tbody>\n",
       "    <tr>\n",
       "      <th>count</th>\n",
       "      <td>264836.00000</td>\n",
       "      <td>2.648360e+05</td>\n",
       "      <td>2.648360e+05</td>\n",
       "      <td>264836.000000</td>\n",
       "      <td>264836.000000</td>\n",
       "      <td>264836.000000</td>\n",
       "    </tr>\n",
       "    <tr>\n",
       "      <th>mean</th>\n",
       "      <td>135.08011</td>\n",
       "      <td>1.355495e+05</td>\n",
       "      <td>1.351583e+05</td>\n",
       "      <td>56.583157</td>\n",
       "      <td>1.907309</td>\n",
       "      <td>7.304200</td>\n",
       "    </tr>\n",
       "    <tr>\n",
       "      <th>std</th>\n",
       "      <td>76.78418</td>\n",
       "      <td>8.057998e+04</td>\n",
       "      <td>7.813303e+04</td>\n",
       "      <td>32.826638</td>\n",
       "      <td>0.643654</td>\n",
       "      <td>3.083226</td>\n",
       "    </tr>\n",
       "    <tr>\n",
       "      <th>min</th>\n",
       "      <td>1.00000</td>\n",
       "      <td>1.000000e+03</td>\n",
       "      <td>1.000000e+00</td>\n",
       "      <td>1.000000</td>\n",
       "      <td>1.000000</td>\n",
       "      <td>1.500000</td>\n",
       "    </tr>\n",
       "    <tr>\n",
       "      <th>25%</th>\n",
       "      <td>70.00000</td>\n",
       "      <td>7.002100e+04</td>\n",
       "      <td>6.760150e+04</td>\n",
       "      <td>28.000000</td>\n",
       "      <td>2.000000</td>\n",
       "      <td>5.400000</td>\n",
       "    </tr>\n",
       "    <tr>\n",
       "      <th>50%</th>\n",
       "      <td>130.00000</td>\n",
       "      <td>1.303575e+05</td>\n",
       "      <td>1.351375e+05</td>\n",
       "      <td>56.000000</td>\n",
       "      <td>2.000000</td>\n",
       "      <td>7.400000</td>\n",
       "    </tr>\n",
       "    <tr>\n",
       "      <th>75%</th>\n",
       "      <td>203.00000</td>\n",
       "      <td>2.030942e+05</td>\n",
       "      <td>2.027012e+05</td>\n",
       "      <td>85.000000</td>\n",
       "      <td>2.000000</td>\n",
       "      <td>9.200000</td>\n",
       "    </tr>\n",
       "    <tr>\n",
       "      <th>max</th>\n",
       "      <td>272.00000</td>\n",
       "      <td>2.373711e+06</td>\n",
       "      <td>2.415841e+06</td>\n",
       "      <td>114.000000</td>\n",
       "      <td>200.000000</td>\n",
       "      <td>650.000000</td>\n",
       "    </tr>\n",
       "  </tbody>\n",
       "</table>\n",
       "</div>"
      ],
      "text/plain": [
       "          STORE_NBR  LYLTY_CARD_NBR        TXN_ID       PROD_NBR  \\\n",
       "count  264836.00000    2.648360e+05  2.648360e+05  264836.000000   \n",
       "mean      135.08011    1.355495e+05  1.351583e+05      56.583157   \n",
       "std        76.78418    8.057998e+04  7.813303e+04      32.826638   \n",
       "min         1.00000    1.000000e+03  1.000000e+00       1.000000   \n",
       "25%        70.00000    7.002100e+04  6.760150e+04      28.000000   \n",
       "50%       130.00000    1.303575e+05  1.351375e+05      56.000000   \n",
       "75%       203.00000    2.030942e+05  2.027012e+05      85.000000   \n",
       "max       272.00000    2.373711e+06  2.415841e+06     114.000000   \n",
       "\n",
       "            PROD_QTY      TOT_SALES  \n",
       "count  264836.000000  264836.000000  \n",
       "mean        1.907309       7.304200  \n",
       "std         0.643654       3.083226  \n",
       "min         1.000000       1.500000  \n",
       "25%         2.000000       5.400000  \n",
       "50%         2.000000       7.400000  \n",
       "75%         2.000000       9.200000  \n",
       "max       200.000000     650.000000  "
      ]
     },
     "execution_count": 3,
     "metadata": {},
     "output_type": "execute_result"
    }
   ],
   "source": [
    "merged_df.describe()"
   ]
  },
  {
   "cell_type": "code",
   "execution_count": 5,
   "id": "18abcdd0",
   "metadata": {},
   "outputs": [],
   "source": [
    "merged_df.to_csv('transaction_merged.csv', index=False)"
   ]
  },
  {
   "cell_type": "code",
   "execution_count": 12,
   "id": "1ab4508d",
   "metadata": {},
   "outputs": [
    {
     "data": {
      "image/png": "[encoded data removed]",
      "text/plain": [
       "<Figure size 864x432 with 1 Axes>"
      ]
     },
     "metadata": {
      "needs_background": "light"
     },
     "output_type": "display_data"
    }
   ],
   "source": [
    "#Which customer segments have the highest total sales?\n",
    "#Which customer segments have the highest total quantity purchased?\n",
    "#Which products are these customer segments purchasing? \n",
    "\n",
    "import pandas as pd\n",
    "import matplotlib.pyplot as plt\n",
    "\n",
    "# load the merged dataframe\n",
    "transaction_merged = pd.read_excel(\"transaction_merged.xlsx\")\n",
    "\n",
    "# group by LIFESTAGE and PREMIUM_CUSTOMER and sum the total sales\n",
    "sales_by_customer = transaction_merged.groupby(['LIFESTAGE', 'PREMIUM_CUSTOMER'])['TOT_SALES'].sum().reset_index()\n",
    "\n",
    "# sort by TOT_SALES in descending order\n",
    "sorted_sales = sales_by_customer.sort_values('TOT_SALES', ascending=False)\n",
    "\n",
    "# get the top 10 values\n",
    "top_10_sales = sorted_sales.head(10)\n",
    "\n",
    "# create a bar graph\n",
    "plt.figure(figsize=(12, 6))\n",
    "plt.bar(top_10_sales['LIFESTAGE'] + ' ' + top_10_sales['PREMIUM_CUSTOMER'], top_10_sales['TOT_SALES'])\n",
    "plt.xticks(rotation=90)\n",
    "plt.xlabel('Customer')\n",
    "plt.ylabel('Total Sales')\n",
    "plt.title('Top 10 Customers by Total Sales')\n",
    "plt.show()\n"
   ]
  },
  {
   "cell_type": "code",
   "execution_count": 13,
   "id": "a8134d49",
   "metadata": {
    "scrolled": true
   },
   "outputs": [
    {
     "name": "stdout",
     "output_type": "stream",
     "text": [
      "                                  PROD_NAME  PROD_QTY  TOT_SALES\n",
      "0                         Burger Rings 220g      2970     6831.0\n",
      "1                  CCs Nacho Cheese    175g      2839     5961.9\n",
      "2                         CCs Original 175g      2880     6048.0\n",
      "3                  CCs Tasty Cheese    175g      2890     6069.0\n",
      "4            Cheetos Chs & Bacon Balls 190g      2801     9243.3\n",
      "..                                      ...       ...        ...\n",
      "109  WW Sour Cream &OnionStacked Chips 160g      2802     5323.8\n",
      "110     WW Supreme Cheese   Corn Chips 200g      2837     5390.3\n",
      "111          Woolworths Cheese   Rings 190g      2872     5169.6\n",
      "112          Woolworths Medium   Salsa 300g      2700     4050.0\n",
      "113          Woolworths Mild     Salsa 300g      2823     4234.5\n",
      "\n",
      "[114 rows x 3 columns]\n"
     ]
    }
   ],
   "source": [
    "prod_summary = transaction_merged.groupby('PROD_NAME').agg({'PROD_QTY': 'sum', 'TOT_SALES': 'sum'}).reset_index()\n",
    "\n",
    "# view the summary dataframe\n",
    "print(prod_summary)"
   ]
  },
  {
   "cell_type": "code",
   "execution_count": 16,
   "id": "40a0dc51",
   "metadata": {
    "scrolled": true
   },
   "outputs": [
    {
     "data": {
      "image/png": "[encoded data removed]",
      "text/plain": [
       "<Figure size 720x432 with 1 Axes>"
      ]
     },
     "metadata": {
      "needs_background": "light"
     },
     "output_type": "display_data"
    }
   ],
   "source": [
    "# Group the data by 'PROD_NAME' and aggregate the sum of 'PROD_QTY' and 'TOT_SALES'\n",
    "grouped_df = transaction_merged.groupby('PROD_NAME').agg({'PROD_QTY': 'sum', 'TOT_SALES': 'sum'})\n",
    "\n",
    "# Sort the values in descending order by 'TOT_SALES' and select the top 10\n",
    "top_10_df = grouped_df.sort_values(by='TOT_SALES', ascending=False).head(10)\n",
    "\n",
    "# Create a bar plot of 'PROD_QTY' for the top 10 'PROD_NAME'\n",
    "ax = top_10_df['PROD_QTY'].plot(kind='bar', figsize=(10, 6), color='blue')\n",
    "\n",
    "# Create a line plot of 'TOT_SALES' for the top 10 'PROD_NAME'\n",
    "top_10_df['TOT_SALES'].plot(kind='line', color='red', ax=ax)\n",
    "\n",
    "# Set the title and axis labels\n",
    "plt.title('Total PROD_QTY and TOT_SALES for Top 10 Products')\n",
    "plt.xlabel('Product Name')\n",
    "plt.ylabel('Quantity/Sales')\n",
    "plt.xticks(rotation=90)\n",
    "\n",
    "# Show the plot\n",
    "plt.show()\n"
   ]
  },
  {
   "cell_type": "code",
   "execution_count": 19,
   "id": "f9640a4c",
   "metadata": {},
   "outputs": [],
   "source": [
    "# Assuming that the date column is named 'DATE' in your dataframe\n",
    "transaction_merged['MONTH'] = pd.to_datetime(transaction_merged['DATE']).dt.month"
   ]
  },
  {
   "cell_type": "code",
   "execution_count": 21,
   "id": "0975d8ae",
   "metadata": {},
   "outputs": [
    {
     "data": {
      "image/png": "[encoded data removed]",
      "text/plain": [
       "<Figure size 432x288 with 1 Axes>"
      ]
     },
     "metadata": {
      "needs_background": "light"
     },
     "output_type": "display_data"
    }
   ],
   "source": [
    "# Group the data by month and sum the total sales for each month\n",
    "monthly_sales = transaction_merged.groupby('MONTH')['TOT_SALES'].sum()\n",
    "\n",
    "# Plot the total sales by month\n",
    "plt.plot(monthly_sales)\n",
    "plt.xlabel('Month')\n",
    "plt.ylabel('Total Sales')\n",
    "plt.show()"
   ]
  }
 ],
 "metadata": {
  "kernelspec": {
   "display_name": "Python 3 (ipykernel)",
   "language": "python",
   "name": "python3"
  },
  "language_info": {
   "codemirror_mode": {
    "name": "ipython",
    "version": 3
   },
   "file_extension": ".py",
   "mimetype": "text/x-python",
   "name": "python",
   "nbconvert_exporter": "python",
   "pygments_lexer": "ipython3",
   "version": "3.9.7"
  }
 },
 "nbformat": 4,
 "nbformat_minor": 5
}
